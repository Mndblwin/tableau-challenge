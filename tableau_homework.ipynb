{
 "metadata": {
  "language_info": {
   "codemirror_mode": {
    "name": "ipython",
    "version": 3
   },
   "file_extension": ".py",
   "mimetype": "text/x-python",
   "name": "python",
   "nbconvert_exporter": "python",
   "pygments_lexer": "ipython3",
   "version": "3.6.10"
  },
  "orig_nbformat": 4,
  "kernelspec": {
   "name": "python3",
   "display_name": "Python 3.6.10 64-bit ('DataBootCamp': conda)"
  },
  "interpreter": {
   "hash": "cf9431fb2f18f4d265e2a8e10d39873690f69d776f1f69bbc20b04b1aea95adf"
  }
 },
 "nbformat": 4,
 "nbformat_minor": 2,
 "cells": [
  {
   "cell_type": "code",
   "execution_count": 9,
   "metadata": {},
   "outputs": [
    {
     "output_type": "execute_result",
     "data": {
      "text/plain": [
       "   tripduration            starttime             stoptime  start station id  \\\n",
       "0           634  2013-07-01 00:00:00  2013-07-01 00:10:34             164.0   \n",
       "1          1547  2013-07-01 00:00:02  2013-07-01 00:25:49             388.0   \n",
       "2           178  2013-07-01 00:01:04  2013-07-01 00:04:02             293.0   \n",
       "3          1580  2013-07-01 00:01:06  2013-07-01 00:27:26             531.0   \n",
       "4           757  2013-07-01 00:01:10  2013-07-01 00:13:47             382.0   \n",
       "\n",
       "        start station name  start station latitude  start station longitude  \\\n",
       "0          E 47 St & 2 Ave               40.753231               -73.970325   \n",
       "1         W 26 St & 10 Ave               40.749718               -74.002950   \n",
       "2    Lafayette St & E 8 St               40.730287               -73.990765   \n",
       "3   Forsyth St & Broome St               40.718939               -73.992663   \n",
       "4  University Pl & E 14 St               40.734927               -73.992005   \n",
       "\n",
       "   end station id         end station name  end station latitude  \\\n",
       "0           504.0          1 Ave & E 15 St             40.732219   \n",
       "1           459.0         W 20 St & 11 Ave             40.746745   \n",
       "2           237.0          E 11 St & 2 Ave             40.730473   \n",
       "3           499.0       Broadway & W 60 St             40.769155   \n",
       "4           410.0  Suffolk St & Stanton St             40.720664   \n",
       "\n",
       "   end station longitude  bikeid    usertype birth year  gender  \n",
       "0             -73.981656   16950    Customer         \\N       0  \n",
       "1             -74.007756   19816    Customer         \\N       0  \n",
       "2             -73.986724   14548  Subscriber       1980       2  \n",
       "3             -73.981918   16063    Customer         \\N       0  \n",
       "4             -73.985180   19213  Subscriber       1986       1  "
      ],
      "text/html": "<div>\n<style scoped>\n    .dataframe tbody tr th:only-of-type {\n        vertical-align: middle;\n    }\n\n    .dataframe tbody tr th {\n        vertical-align: top;\n    }\n\n    .dataframe thead th {\n        text-align: right;\n    }\n</style>\n<table border=\"1\" class=\"dataframe\">\n  <thead>\n    <tr style=\"text-align: right;\">\n      <th></th>\n      <th>tripduration</th>\n      <th>starttime</th>\n      <th>stoptime</th>\n      <th>start station id</th>\n      <th>start station name</th>\n      <th>start station latitude</th>\n      <th>start station longitude</th>\n      <th>end station id</th>\n      <th>end station name</th>\n      <th>end station latitude</th>\n      <th>end station longitude</th>\n      <th>bikeid</th>\n      <th>usertype</th>\n      <th>birth year</th>\n      <th>gender</th>\n    </tr>\n  </thead>\n  <tbody>\n    <tr>\n      <th>0</th>\n      <td>634</td>\n      <td>2013-07-01 00:00:00</td>\n      <td>2013-07-01 00:10:34</td>\n      <td>164.0</td>\n      <td>E 47 St &amp; 2 Ave</td>\n      <td>40.753231</td>\n      <td>-73.970325</td>\n      <td>504.0</td>\n      <td>1 Ave &amp; E 15 St</td>\n      <td>40.732219</td>\n      <td>-73.981656</td>\n      <td>16950</td>\n      <td>Customer</td>\n      <td>\\N</td>\n      <td>0</td>\n    </tr>\n    <tr>\n      <th>1</th>\n      <td>1547</td>\n      <td>2013-07-01 00:00:02</td>\n      <td>2013-07-01 00:25:49</td>\n      <td>388.0</td>\n      <td>W 26 St &amp; 10 Ave</td>\n      <td>40.749718</td>\n      <td>-74.002950</td>\n      <td>459.0</td>\n      <td>W 20 St &amp; 11 Ave</td>\n      <td>40.746745</td>\n      <td>-74.007756</td>\n      <td>19816</td>\n      <td>Customer</td>\n      <td>\\N</td>\n      <td>0</td>\n    </tr>\n    <tr>\n      <th>2</th>\n      <td>178</td>\n      <td>2013-07-01 00:01:04</td>\n      <td>2013-07-01 00:04:02</td>\n      <td>293.0</td>\n      <td>Lafayette St &amp; E 8 St</td>\n      <td>40.730287</td>\n      <td>-73.990765</td>\n      <td>237.0</td>\n      <td>E 11 St &amp; 2 Ave</td>\n      <td>40.730473</td>\n      <td>-73.986724</td>\n      <td>14548</td>\n      <td>Subscriber</td>\n      <td>1980</td>\n      <td>2</td>\n    </tr>\n    <tr>\n      <th>3</th>\n      <td>1580</td>\n      <td>2013-07-01 00:01:06</td>\n      <td>2013-07-01 00:27:26</td>\n      <td>531.0</td>\n      <td>Forsyth St &amp; Broome St</td>\n      <td>40.718939</td>\n      <td>-73.992663</td>\n      <td>499.0</td>\n      <td>Broadway &amp; W 60 St</td>\n      <td>40.769155</td>\n      <td>-73.981918</td>\n      <td>16063</td>\n      <td>Customer</td>\n      <td>\\N</td>\n      <td>0</td>\n    </tr>\n    <tr>\n      <th>4</th>\n      <td>757</td>\n      <td>2013-07-01 00:01:10</td>\n      <td>2013-07-01 00:13:47</td>\n      <td>382.0</td>\n      <td>University Pl &amp; E 14 St</td>\n      <td>40.734927</td>\n      <td>-73.992005</td>\n      <td>410.0</td>\n      <td>Suffolk St &amp; Stanton St</td>\n      <td>40.720664</td>\n      <td>-73.985180</td>\n      <td>19213</td>\n      <td>Subscriber</td>\n      <td>1986</td>\n      <td>1</td>\n    </tr>\n  </tbody>\n</table>\n</div>"
     },
     "metadata": {},
     "execution_count": 9
    }
   ],
   "source": [
    "import pandas as pd\n",
    "from os import listdir\n",
    "from sqlalchemy import create_engine\n",
    "\n",
    "file_path = [f for f in listdir(\"../tableau-challenge\") if f.endswith('.csv')]\n",
    "df_citibike = pd.concat(map(pd.read_csv, file_path))\n",
    "df_citibike.head()\n",
    "#file_path = '201306-citibike-tripdata.csv'\n",
    "\n",
    "#df = pd.read_csv(file_path, encoding='windows-1252')"
   ]
  },
  {
   "cell_type": "code",
   "execution_count": 10,
   "metadata": {},
   "outputs": [
    {
     "output_type": "execute_result",
     "data": {
      "text/plain": [
       "<bound method DataFrame.info of          tripduration                 starttime                  stoptime  \\\n",
       "0                 634       2013-07-01 00:00:00       2013-07-01 00:10:34   \n",
       "1                1547       2013-07-01 00:00:02       2013-07-01 00:25:49   \n",
       "2                 178       2013-07-01 00:01:04       2013-07-01 00:04:02   \n",
       "3                1580       2013-07-01 00:01:06       2013-07-01 00:27:26   \n",
       "4                 757       2013-07-01 00:01:10       2013-07-01 00:13:47   \n",
       "...               ...                       ...                       ...   \n",
       "2105803           877  2020-07-31 23:59:48.9250  2020-08-01 00:14:26.2540   \n",
       "2105804           839  2020-07-31 23:59:51.7740  2020-08-01 00:13:50.9750   \n",
       "2105805          1042  2020-07-31 23:59:56.1460  2020-08-01 00:17:18.5090   \n",
       "2105806           699  2020-07-31 23:59:57.4310  2020-08-01 00:11:36.5420   \n",
       "2105807           249  2020-07-31 23:59:58.7260  2020-08-01 00:04:08.2070   \n",
       "\n",
       "         start station id           start station name  \\\n",
       "0                   164.0              E 47 St & 2 Ave   \n",
       "1                   388.0             W 26 St & 10 Ave   \n",
       "2                   293.0        Lafayette St & E 8 St   \n",
       "3                   531.0       Forsyth St & Broome St   \n",
       "4                   382.0      University Pl & E 14 St   \n",
       "...                   ...                          ...   \n",
       "2105803             217.0                Old Fulton St   \n",
       "2105804            4044.0              8 Ave & W 38 St   \n",
       "2105805            3723.0  Cadman Plaza E & Johnson St   \n",
       "2105806             161.0        LaGuardia Pl & W 3 St   \n",
       "2105807             446.0              W 24 St & 7 Ave   \n",
       "\n",
       "         start station latitude  start station longitude  end station id  \\\n",
       "0                     40.753231               -73.970325           504.0   \n",
       "1                     40.749718               -74.002950           459.0   \n",
       "2                     40.730287               -73.990765           237.0   \n",
       "3                     40.718939               -73.992663           499.0   \n",
       "4                     40.734927               -73.992005           410.0   \n",
       "...                         ...                      ...             ...   \n",
       "2105803               40.702772               -73.993836           398.0   \n",
       "2105804               40.754610               -73.991770          3163.0   \n",
       "2105805               40.695317               -73.990157           350.0   \n",
       "2105806               40.729170               -73.998102           504.0   \n",
       "2105807               40.744876               -73.995299          3259.0   \n",
       "\n",
       "                    end station name  end station latitude  \\\n",
       "0                    1 Ave & E 15 St             40.732219   \n",
       "1                   W 20 St & 11 Ave             40.746745   \n",
       "2                    E 11 St & 2 Ave             40.730473   \n",
       "3                 Broadway & W 60 St             40.769155   \n",
       "4            Suffolk St & Stanton St             40.720664   \n",
       "...                              ...                   ...   \n",
       "2105803     Atlantic Ave & Furman St             40.691652   \n",
       "2105804  Central Park West & W 68 St             40.773407   \n",
       "2105805        Clinton St & Grand St             40.715595   \n",
       "2105806              1 Ave & E 16 St             40.732219   \n",
       "2105807              9 Ave & W 28 St             40.749370   \n",
       "\n",
       "         end station longitude  bikeid    usertype birth year  gender  \n",
       "0                   -73.981656   16950    Customer         \\N       0  \n",
       "1                   -74.007756   19816    Customer         \\N       0  \n",
       "2                   -73.986724   14548  Subscriber       1980       2  \n",
       "3                   -73.981918   16063    Customer         \\N       0  \n",
       "4                   -73.985180   19213  Subscriber       1986       1  \n",
       "...                        ...     ...         ...        ...     ...  \n",
       "2105803             -73.999979   44073    Customer       1969       0  \n",
       "2105804             -73.977825   41797    Customer       2002       1  \n",
       "2105805             -73.987030   24808  Subscriber       1974       1  \n",
       "2105806             -73.981656   41486  Subscriber       1991       1  \n",
       "2105807             -73.999234   28699    Customer       1990       1  \n",
       "\n",
       "[12214140 rows x 15 columns]>"
      ]
     },
     "metadata": {},
     "execution_count": 10
    }
   ],
   "source": [
    "df_citibike.info"
   ]
  },
  {
   "cell_type": "code",
   "execution_count": 11,
   "metadata": {},
   "outputs": [],
   "source": [
    "engine = create_engine(\"sqlite:///../tableau-challenge/citibike.sqlite\", echo=False)\n"
   ]
  },
  {
   "cell_type": "code",
   "execution_count": null,
   "metadata": {},
   "outputs": [],
   "source": []
  }
 ]
}